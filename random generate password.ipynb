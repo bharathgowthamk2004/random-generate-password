{
 "cells": [
  {
   "cell_type": "code",
   "execution_count": null,
   "id": "3dc22361",
   "metadata": {},
   "outputs": [],
   "source": [
    "import random\n",
    "import string\n",
    "\n",
    "def generate_password(length=12):\n",
    "\n",
    "    characters = string.ascii_letters + string.digits + string.punctuation\n",
    "\n",
    "    password = ''.join(random.choice(characters) for _ in range(length))\n",
    "    \n",
    "    return password\n",
    "\n",
    "\n",
    "password_length = 16\n",
    "\n",
    "\n",
    "random_password = generate_password(password_length)\n",
    "\n",
    "print(\"Random Password:\", random_password)"
   ]
  }
 ],
 "metadata": {
  "kernelspec": {
   "display_name": "Python 3 (ipykernel)",
   "language": "python",
   "name": "python3"
  },
  "language_info": {
   "codemirror_mode": {
    "name": "ipython",
    "version": 3
   },
   "file_extension": ".py",
   "mimetype": "text/x-python",
   "name": "python",
   "nbconvert_exporter": "python",
   "pygments_lexer": "ipython3",
   "version": "3.11.4"
  }
 },
 "nbformat": 4,
 "nbformat_minor": 5
}
